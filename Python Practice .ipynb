{
 "cells": [
  {
   "cell_type": "markdown",
   "metadata": {},
   "source": [
    "### Q1. Write a program to calculate the area of a rectangle with given length and width.\n",
    "    area = length * width"
   ]
  },
  {
   "cell_type": "code",
   "execution_count": 2,
   "metadata": {},
   "outputs": [
    {
     "name": "stdout",
     "output_type": "stream",
     "text": [
      "the area=  25.0\n"
     ]
    }
   ],
   "source": [
    "length = float(input(\"Enter the length of the rectangle: \"))\n",
    "width = float(input(\"Enter the width of the rectangle: \"))\n",
    "area = width*length\n",
    "print(\"the area= \", area)"
   ]
  },
  {
   "cell_type": "markdown",
   "metadata": {},
   "source": [
    "### Q2. Write a program that takes an integer input from the user and prints whether it's even or odd.\n",
    "    Even Numbers: 0, 2, 4, 6, 8, ...\n",
    "    OOD Numbers: 1, 3, 5, 7, 9, ..."
   ]
  },
  {
   "cell_type": "code",
   "execution_count": 3,
   "metadata": {},
   "outputs": [
    {
     "name": "stdout",
     "output_type": "stream",
     "text": [
      "the number is odd\n"
     ]
    }
   ],
   "source": [
    "num = int(input(\"inter a number\"))\n",
    "if num%2==0:\n",
    "    print(\"the number is even\")\n",
    "else:\n",
    "   print(\"the number is odd\") "
   ]
  },
  {
   "cell_type": "markdown",
   "metadata": {},
   "source": [
    "### Q3. Write a program that takes a three-digit number as input and calculates the sum of its digits."
   ]
  },
  {
   "cell_type": "code",
   "execution_count": null,
   "metadata": {},
   "outputs": [],
   "source": [
    "number= int(input(\"enter three digit number\"))\n",
    "if 100>=number>=999:\n",
    "    units=number%10\n",
    "    tens=(number//10)%10\n",
    "    hundreds = number // 100\n",
    "    result= units+tens+hundreds\n",
    "else:\n",
    "    print(\"enter a new number\")\n",
    "print(\"the sum of the three digits=\" , result)"
   ]
  },
  {
   "cell_type": "markdown",
   "metadata": {},
   "source": [
    "### Q4. Create two strings and concatenate them to form a third string."
   ]
  },
  {
   "cell_type": "code",
   "execution_count": 5,
   "metadata": {},
   "outputs": [
    {
     "name": "stdout",
     "output_type": "stream",
     "text": [
      "Hello to python\n"
     ]
    }
   ],
   "source": [
    "str1=\"Hello\"\n",
    "str2=\" to python\"\n",
    "print(str1+str2)"
   ]
  },
  {
   "cell_type": "markdown",
   "metadata": {},
   "source": [
    "### Q5. Write a program that compares two numbers and prints whether the first number is greater, smaller, or equal to the second number."
   ]
  },
  {
   "cell_type": "code",
   "execution_count": 6,
   "metadata": {},
   "outputs": [
    {
     "name": "stdout",
     "output_type": "stream",
     "text": [
      "num2 is greater\n"
     ]
    }
   ],
   "source": [
    "num1=int(input(\"inter the first number\"))\n",
    "num2=int(input(\"inter the second number\"))\n",
    "if num1>num2:\n",
    "    print(\"num1 is greater\")\n",
    "elif num2>num1:\n",
    "    print(\"num2 is greater\")\n",
    "else:\n",
    "    print(\"numbers are equal\")"
   ]
  },
  {
   "cell_type": "markdown",
   "metadata": {},
   "source": [
    "### Q6. Write a program that takes a string as input and prints it in reverse order.\n",
    "    ahmed => demha"
   ]
  },
  {
   "cell_type": "code",
   "execution_count": 8,
   "metadata": {},
   "outputs": [
    {
     "name": "stdout",
     "output_type": "stream",
     "text": [
      "ecin\n"
     ]
    }
   ],
   "source": [
    "str=\"nice\"\n",
    "print(str[::-1])"
   ]
  },
  {
   "cell_type": "code",
   "execution_count": null,
   "metadata": {},
   "outputs": [],
   "source": []
  },
  {
   "cell_type": "markdown",
   "metadata": {},
   "source": [
    "### Q7. Write a program that takes a number as input and prints \"Positive\" if it's greater than 0, \"Negative\" if it's less than 0, and \"Zero\" if it's equal to 0."
   ]
  },
  {
   "cell_type": "code",
   "execution_count": 10,
   "metadata": {},
   "outputs": [
    {
     "name": "stdout",
     "output_type": "stream",
     "text": [
      "Zero\n"
     ]
    }
   ],
   "source": [
    "x = int(input(\"inter a m]number\"))\n",
    "if x>0:\n",
    "    print(\"positve\")\n",
    "elif x<0:\n",
    "    print(\"negative\")\n",
    "else:\n",
    "    print(\"Zero\")"
   ]
  },
  {
   "cell_type": "markdown",
   "metadata": {},
   "source": [
    "### Q8. Write a program that converts Fahrenheit to Celsius. Take Fahrenheit as input from the user.\n",
    "    Temperature in degrees Celsius (°C) = (Temperature in degrees Fahrenheit (°F) - 32) * 5/9"
   ]
  },
  {
   "cell_type": "code",
   "execution_count": null,
   "metadata": {},
   "outputs": [],
   "source": []
  },
  {
   "cell_type": "markdown",
   "metadata": {},
   "source": [
    "### Q9. Write a program that takes a string as input and counts the number of characters in it.\n",
    "    ahmed => 5"
   ]
  },
  {
   "cell_type": "code",
   "execution_count": 14,
   "metadata": {},
   "outputs": [
    {
     "name": "stdout",
     "output_type": "stream",
     "text": [
      "9\n"
     ]
    }
   ],
   "source": [
    "txt = input(\"\")\n",
    "count = len(txt)\n",
    "print(count)"
   ]
  },
  {
   "cell_type": "markdown",
   "metadata": {},
   "source": [
    "### Q10. Write a program that takes three numbers as input and prints the maximum of those numbers."
   ]
  },
  {
   "cell_type": "code",
   "execution_count": 16,
   "metadata": {},
   "outputs": [
    {
     "name": "stdout",
     "output_type": "stream",
     "text": [
      "the maximmum  5.0\n"
     ]
    }
   ],
   "source": [
    "n1 = float(input())\n",
    "n2 = float(input())\n",
    "n3 = float(input())\n",
    "M = max(n1,n2,n3)\n",
    "print(\"the maximmum \",M)\n"
   ]
  },
  {
   "cell_type": "markdown",
   "metadata": {},
   "source": [
    "### Q11. Create two lists and concatenate them to form a third list."
   ]
  },
  {
   "cell_type": "code",
   "execution_count": 17,
   "metadata": {},
   "outputs": [
    {
     "name": "stdout",
     "output_type": "stream",
     "text": [
      "[1, 2, 3, 4, 5, 6]\n"
     ]
    }
   ],
   "source": [
    "l1 = [1,2,3]\n",
    "l2 = [4,5,6]\n",
    "print(l1+l2)"
   ]
  },
  {
   "cell_type": "markdown",
   "metadata": {},
   "source": [
    "### Q12. Write a program that takes a string as input and checks whether it's a palindrome.\n",
    "    radar, level, madam, ..."
   ]
  },
  {
   "cell_type": "code",
   "execution_count": 9,
   "metadata": {},
   "outputs": [
    {
     "name": "stdout",
     "output_type": "stream",
     "text": [
      "'no' is not a palindrome.\n"
     ]
    }
   ],
   "source": [
    "s=input()\n",
    "if s==s[::-1]:\n",
    "    print(f\"'{s}' is a palindrome.\")\n",
    "else:\n",
    "    print(f\"'{s}' is not a palindrome.\")"
   ]
  },
  {
   "cell_type": "markdown",
   "metadata": {},
   "source": [
    "### Q13. Write a program that takes three numbers as input and prints their average."
   ]
  },
  {
   "cell_type": "code",
   "execution_count": null,
   "metadata": {},
   "outputs": [],
   "source": [
    "x=int(input())\n",
    "y=int(input())\n",
    "z=int(input())\n",
    "avg=(x+y+z)/3\n",
    "print(avg)"
   ]
  },
  {
   "cell_type": "markdown",
   "metadata": {},
   "source": [
    "### Q14. Write a program that takes two numbers as input and checks whether the first number is divisible by the second number."
   ]
  },
  {
   "cell_type": "code",
   "execution_count": 1,
   "metadata": {},
   "outputs": [
    {
     "name": "stdout",
     "output_type": "stream",
     "text": [
      "the two numbers are divisible\n"
     ]
    }
   ],
   "source": [
    "num1=int(input())\n",
    "num2=int(input())\n",
    "if num1%num2==0:\n",
    "    print(\"the two numbers are divisible\")\n",
    "else:\n",
    "    print(\"the two numbers are not divisible\")"
   ]
  },
  {
   "cell_type": "markdown",
   "metadata": {},
   "source": [
    "### Q15. Write a program that takes two numbers and an operator (+, -, *, /) as input and performs the corresponding operation."
   ]
  },
  {
   "cell_type": "code",
   "execution_count": 3,
   "metadata": {},
   "outputs": [],
   "source": [
    "num1=float(input(\"enter the first number\"))\n",
    "operator=input(\"enter the operator\")\n",
    "num2=float(input(\"enter the second number\"))\n",
    "if operator=='+':\n",
    "    result=num1+num2\n",
    "    print(f\"the result ={result}\")\n",
    "elif operator=='*':\n",
    "    result=num1*num2\n",
    "    print(f\"the result ={result}\")\n",
    "elif operator=='-':\n",
    "    result=num1-num2\n",
    "    print(f\"the result ={result}\")\n",
    "elif operator=='/':\n",
    "    result=num1/num2\n",
    "    print(f\"the result ={result}\")\n",
    "    if num2==0:\n",
    "        print(\"invalid number\")"
   ]
  },
  {
   "cell_type": "markdown",
   "metadata": {},
   "source": [
    "### Q16. Write a program that takes three numbers as input and prints the minimum of those numbers."
   ]
  },
  {
   "cell_type": "code",
   "execution_count": 5,
   "metadata": {},
   "outputs": [
    {
     "name": "stdout",
     "output_type": "stream",
     "text": [
      "3\n"
     ]
    }
   ],
   "source": [
    "x=int(input())\n",
    "y=int(input())\n",
    "print(min(x,y))"
   ]
  },
  {
   "cell_type": "markdown",
   "metadata": {},
   "source": [
    "### Q17. Write a program that takes a string as input and prints its length."
   ]
  },
  {
   "cell_type": "code",
   "execution_count": 6,
   "metadata": {},
   "outputs": [
    {
     "name": "stdout",
     "output_type": "stream",
     "text": [
      "14\n"
     ]
    }
   ],
   "source": [
    "str=input(\"\")\n",
    "print(len(str))"
   ]
  },
  {
   "cell_type": "markdown",
   "metadata": {},
   "source": [
    "### Q18. Create a list of numbers and write a program to find the sum of all elements in the list."
   ]
  },
  {
   "cell_type": "code",
   "execution_count": 7,
   "metadata": {},
   "outputs": [
    {
     "name": "stdout",
     "output_type": "stream",
     "text": [
      "1667\n"
     ]
    }
   ],
   "source": [
    "l=[4,6,9,7,8,2,4,6,7,9,56,36,94,2,52,5,9,596,5,96,654]\n",
    "print(sum(l))"
   ]
  },
  {
   "cell_type": "markdown",
   "metadata": {},
   "source": [
    "### Q19. Write a program that takes a string as input and prints it in both uppercase and lowercase."
   ]
  },
  {
   "cell_type": "code",
   "execution_count": 8,
   "metadata": {},
   "outputs": [
    {
     "name": "stdout",
     "output_type": "stream",
     "text": [
      "NEW\n",
      "new\n"
     ]
    }
   ],
   "source": [
    "str=input(\"\")\n",
    "print(str.upper())\n",
    "print(str.lower())"
   ]
  }
 ],
 "metadata": {
  "kernelspec": {
   "display_name": "Python 3",
   "language": "python",
   "name": "python3"
  },
  "language_info": {
   "codemirror_mode": {
    "name": "ipython",
    "version": 3
   },
   "file_extension": ".py",
   "mimetype": "text/x-python",
   "name": "python",
   "nbconvert_exporter": "python",
   "pygments_lexer": "ipython3",
   "version": "3.11.9"
  }
 },
 "nbformat": 4,
 "nbformat_minor": 2
}
